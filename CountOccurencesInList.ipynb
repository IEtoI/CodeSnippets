{
 "cells": [
  {
   "cell_type": "markdown",
   "metadata": {},
   "source": [
    "By the use of Counter dictionary counting the occurrences of all element as well as most common element in python list with its occurrence value in most efficient way.\n",
    "\n",
    "\n",
    "If our python list is:-"
   ]
  },
  {
   "cell_type": "code",
   "execution_count": null,
   "metadata": {
    "collapsed": true
   },
   "outputs": [],
   "source": [
    "l=['1', '1', '1', '1', '1', '1', '2', '2', '2', '2', '7', '7', '7', '10', '10']"
   ]
  },
  {
   "cell_type": "markdown",
   "metadata": {},
   "source": [
    "#### To find occurrence of every items in the python list use following:-"
   ]
  },
  {
   "cell_type": "code",
   "execution_count": null,
   "metadata": {
    "collapsed": true
   },
   "outputs": [],
   "source": [
    "\\>>from collections import Counter\n",
    "\n",
    "\\>>c=Counter(l)\n",
    "\n",
    "\\>>print c\n",
    "\n",
    "Counter({'1': 6, '2': 4, '7': 3, '10': 2})"
   ]
  },
  {
   "cell_type": "markdown",
   "metadata": {},
   "source": [
    "#### To find most/highest occurrence of items in the python list:-"
   ]
  },
  {
   "cell_type": "code",
   "execution_count": null,
   "metadata": {
    "collapsed": true
   },
   "outputs": [],
   "source": [
    "\\>>k=c.most_common()\n",
    "\n",
    "\\>>k\n",
    "\n",
    "[('1', 6), ('2', 4), ('7', 3), ('10', 2)]"
   ]
  },
  {
   "cell_type": "markdown",
   "metadata": {},
   "source": [
    "#### For Highest one:-"
   ]
  },
  {
   "cell_type": "code",
   "execution_count": null,
   "metadata": {
    "collapsed": true
   },
   "outputs": [],
   "source": [
    "\\>>k[0][1]\n",
    "\n",
    "6"
   ]
  },
  {
   "cell_type": "markdown",
   "metadata": {},
   "source": [
    "#### For the item just use k[0][0]"
   ]
  },
  {
   "cell_type": "markdown",
   "metadata": {},
   "source": [
    "\\>>k[0][0]\n",
    "\n",
    "'1'"
   ]
  },
  {
   "cell_type": "markdown",
   "metadata": {},
   "source": [
    "#### For nth highest item and its no of occurrence in the list use follow:-\n",
    "\n",
    "**for n=2 **"
   ]
  },
  {
   "cell_type": "code",
   "execution_count": null,
   "metadata": {
    "collapsed": true
   },
   "outputs": [],
   "source": [
    "\\>>print k[n-1][0] # For item\n",
    "\n",
    "2\n",
    "\n",
    "\\>>print k[n-1][1] # For value\n",
    "\n",
    "4"
   ]
  }
 ],
 "metadata": {
  "kernelspec": {
   "display_name": "Python 3",
   "language": "python",
   "name": "python3"
  },
  "language_info": {
   "codemirror_mode": {
    "name": "ipython",
    "version": 3
   },
   "file_extension": ".py",
   "mimetype": "text/x-python",
   "name": "python",
   "nbconvert_exporter": "python",
   "pygments_lexer": "ipython3",
   "version": "3.6.1"
  }
 },
 "nbformat": 4,
 "nbformat_minor": 2
}
